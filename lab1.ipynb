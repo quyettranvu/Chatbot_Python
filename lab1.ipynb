{
 "cells": [
  {
   "cell_type": "code",
   "execution_count": 1,
   "metadata": {},
   "outputs": [
    {
     "data": {
      "text/plain": [
       "<queue.Queue at 0x1dd14464d60>"
      ]
     },
     "execution_count": 1,
     "metadata": {},
     "output_type": "execute_result"
    }
   ],
   "source": [
    "import telegram\n",
    "import requests\n",
    "\n",
    "# Set up the bot\n",
    "bot_token = 'BOT_TOKEN_KEY'\n",
    "bot = telegram.Bot(token=bot_token)\n",
    "\n",
    "# Define a function to handle incoming messages\n",
    "def handle_message(update, context):\n",
    "    # Get the search query from the user\n",
    "    search_query = update.message.text\n",
    "    \n",
    "    # Make a request to your custom search API\n",
    "    search_results = requests.get('https://customsearch.googleapis.com/customsearch/v1?key=API_KEY',params={'q': search_query})\n",
    "    \n",
    "     # Parse the search results and get the top result\n",
    "    search_results_json = search_results.json()\n",
    "    if 'items' in search_results_json and len(search_results_json['items']) > 0:\n",
    "        top_result = search_results_json['items'][0]\n",
    "        \n",
    "        # Send the top result back to the user\n",
    "        chat_id = update.effective_chat.id\n",
    "        bot.send_message(chat_id=chat_id, text=top_result['link'])\n",
    "    else:\n",
    "        # Send a message to the user indicating that no results were found\n",
    "        chat_id = update.effective_chat.id\n",
    "        bot.send_message(chat_id=chat_id, text=\"No results found for your search query\")\n",
    "\n",
    "# Set up the bot's message handler\n",
    "from telegram.ext import MessageHandler, Filters, Updater\n",
    "\n",
    "updater = Updater(token=bot_token, use_context=True)\n",
    "dispatcher = updater.dispatcher\n",
    "message_handler = MessageHandler(Filters.text & ~Filters.command, handle_message)\n",
    "dispatcher.add_handler(message_handler)\n",
    "\n",
    "# Start the bot\n",
    "updater.start_polling()\n"
   ]
  }
 ],
 "metadata": {
  "kernelspec": {
   "display_name": "Python 3",
   "language": "python",
   "name": "python3"
  },
  "language_info": {
   "codemirror_mode": {
    "name": "ipython",
    "version": 3
   },
   "file_extension": ".py",
   "mimetype": "text/x-python",
   "name": "python",
   "nbconvert_exporter": "python",
   "pygments_lexer": "ipython3",
   "version": "3.10.0"
  },
  "orig_nbformat": 4,
  "vscode": {
   "interpreter": {
    "hash": "369f2c481f4da34e4445cda3fffd2e751bd1c4d706f27375911949ba6bb62e1c"
   }
  }
 },
 "nbformat": 4,
 "nbformat_minor": 2
}
